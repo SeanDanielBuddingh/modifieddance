{
 "cells": [
  {
   "cell_type": "code",
   "execution_count": null,
   "id": "586e7427-8133-42af-b1a1-e599fa301fd6",
   "metadata": {},
   "outputs": [],
   "source": [
    "import torch\n",
    "import torch.nn.functional as F\n",
    "import numpy as np\n",
    "\n",
    "import dgl\n",
    "import copy\n",
    "import gc\n",
    "\n",
    "#ScDeepSort Imports\n",
    "from dance.modules.single_modality.cell_type_annotation.scdeepsort import ScDeepSort\n",
    "from dance.utils import set_seed\n",
    "\n",
    "import os\n",
    "os.environ[\"DGLBACKEND\"] = \"pytorch\"\n",
    "from pprint import pprint\n",
    "from dance.datasets.singlemodality import ScDeepSortDataset\n",
    "\n",
    "import scanpy as sc\n",
    "from dance.transforms import AnnDataTransform, FilterGenesPercentile\n",
    "from dance.transforms import Compose, SetConfig\n",
    "from dance.transforms.graph import PCACellFeatureGraph, CellFeatureGraph\n",
    "from dance.typing import LogLevel, Optional\n",
    "\n",
    "\n",
    "in_channels = 400\n",
    "hidden_channels = 400\n",
    "out_channels = 100\n",
    "num_classes = 21\n",
    "\n",
    "\n",
    "device = torch.device('cuda' if torch.cuda.is_available() else 'cpu')\n",
    "set_seed = 42\n",
    "\n",
    "#ScDeepSort\n",
    "\n",
    "model = ScDeepSort(dim_in=in_channels, dim_hid=hidden_channels, num_layers=1, species='mouse', tissue='Kidney', device=device)\n",
    "preprocessing_pipeline = Compose(\n",
    "    AnnDataTransform(sc.pp.normalize_total, target_sum=1e-4),\n",
    "    AnnDataTransform(sc.pp.log1p),\n",
    "    FilterGenesPercentile(min_val=1, max_val=99, mode=\"sum\"),\n",
    ")\n",
    "def train_pipeline(n_components: int = 400, log_level: LogLevel = \"INFO\"):\n",
    "    return Compose(\n",
    "        PCACellFeatureGraph(n_components=n_components, split_name=\"train\"),\n",
    "        SetConfig({\"label_channel\": \"cell_type\"}),\n",
    "        log_level=log_level,\n",
    "    )\n",
    "def test_pipeline(n_components: int = 400, log_level: LogLevel = \"INFO\"):\n",
    "    return Compose(\n",
    "        PCACellFeatureGraph(n_components=n_components, split_name=\"test\"),\n",
    "        SetConfig({\"label_channel\": \"cell_type\"}),\n",
    "        log_level=log_level,\n",
    "    )"
   ]
  },
  {
   "cell_type": "code",
   "execution_count": null,
   "id": "0f45d245-536c-49d1-b402-257cc19dddb3",
   "metadata": {},
   "outputs": [],
   "source": [
    "dataset = ScDeepSortDataset(species=\"mouse\", tissue=\"Kidney\",\n",
    "                            train_dataset=[\"4682\", \"203\"], test_dataset=[\"203\", \"203\"])\n",
    "data = dataset.load_data()\n",
    "preprocessing_pipeline(data)\n",
    "train_pipeline()(data)\n",
    "y_train = data.get_train_data(return_type=\"torch\")[1]\n",
    "y_test = data.get_test_data(return_type=\"torch\")[1]\n",
    "y_train = torch.cat([y_train, y_test], dim=0)\n",
    "y_train = torch.argmax(y_train, 1)\n",
    "y_test = torch.argmax(y_test, 1)"
   ]
  },
  {
   "cell_type": "code",
   "execution_count": null,
   "id": "8857e70d-2e3d-4edd-bf86-a45c41b2c0d5",
   "metadata": {},
   "outputs": [],
   "source": [
    "model.fit(graph=data.data.uns[\"CellFeatureGraph\"], labels=y_train)"
   ]
  },
  {
   "cell_type": "code",
   "execution_count": null,
   "id": "e0745387-fd66-40a6-8180-26706dd283b3",
   "metadata": {},
   "outputs": [],
   "source": [
    "test_pipeline()(data)"
   ]
  },
  {
   "cell_type": "code",
   "execution_count": null,
   "id": "708019f6-a43b-47cd-aad6-8d6738e40a42",
   "metadata": {},
   "outputs": [],
   "source": [
    "result = model.predict_proba(graph=data.data.uns[\"CellFeatureGraph\"])"
   ]
  },
  {
   "cell_type": "code",
   "execution_count": null,
   "id": "af92b748-ee6d-4d1e-b332-b4b030537fbc",
   "metadata": {},
   "outputs": [],
   "source": [
    "result = torch.tensor(result)\n",
    "predicted = torch.argmax(result, 1)\n",
    "print(predicted)\n",
    "correct = (predicted == y_test).sum().item()\n",
    "total = y_test.numel()\n",
    "accuracy = correct / total\n",
    "print('accuracy: ', accuracy)"
   ]
  }
 ],
 "metadata": {
  "kernelspec": {
   "display_name": "Python 3 (ipykernel)",
   "language": "python",
   "name": "python3"
  },
  "language_info": {
   "codemirror_mode": {
    "name": "ipython",
    "version": 3
   },
   "file_extension": ".py",
   "mimetype": "text/x-python",
   "name": "python",
   "nbconvert_exporter": "python",
   "pygments_lexer": "ipython3",
   "version": "3.11.5"
  }
 },
 "nbformat": 4,
 "nbformat_minor": 5
}
